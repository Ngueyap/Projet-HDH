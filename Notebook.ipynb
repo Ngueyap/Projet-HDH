{
  "nbformat": 4,
  "nbformat_minor": 0,
  "metadata": {
    "colab": {
      "provenance": [],
      "authorship_tag": "ABX9TyNDqbR1QVYlcaD2FWXFApl5",
      "include_colab_link": true
    },
    "kernelspec": {
      "name": "python3",
      "display_name": "Python 3"
    },
    "language_info": {
      "name": "python"
    }
  },
  "cells": [
    {
      "cell_type": "markdown",
      "metadata": {
        "id": "view-in-github",
        "colab_type": "text"
      },
      "source": [
        "<a href=\"https://colab.research.google.com/github/Ngueyap/Projet-HDH/blob/main/Notebook.ipynb\" target=\"_parent\"><img src=\"https://colab.research.google.com/assets/colab-badge.svg\" alt=\"Open In Colab\"/></a>"
      ]
    },
    {
      "cell_type": "code",
      "execution_count": 1,
      "metadata": {
        "id": "ZkufDyLsh1lK",
        "colab": {
          "base_uri": "https://localhost:8080/"
        },
        "outputId": "3d534c0a-ef27-4ae0-b819-27b5b8efe0c7"
      },
      "outputs": [
        {
          "output_type": "stream",
          "name": "stderr",
          "text": [
            "<ipython-input-1-2bb82c6c71e2>:14: MovedIn20Warning: The ``declarative_base()`` function is now available as sqlalchemy.orm.declarative_base(). (deprecated since: 2.0) (Background on SQLAlchemy 2.0 at: https://sqlalche.me/e/b8d9)\n",
            "  Base = declarative_base()\n"
          ]
        }
      ],
      "source": [
        "# Importer les bibliothèques nécessaires\n",
        "from sqlalchemy import create_engine, Column, Integer, String\n",
        "from sqlalchemy.orm import sessionmaker\n",
        "from sqlalchemy.ext.declarative import declarative_base\n",
        "\n",
        "# Créer une instance du moteur SQL\n",
        "engine = create_engine('sqlite:///sante_data.db')\n",
        "\n",
        "# Créer une session SQLAlchemy\n",
        "Session = sessionmaker(bind=engine)\n",
        "session = Session()\n",
        "\n",
        "# Créer une classe de base pour les objets de la base de données\n",
        "Base = declarative_base()\n",
        "\n",
        "\n",
        "# Définir la classe pour la table \"person\"\n",
        "class Person(Base):\n",
        "    __tablename__ = 'person'\n",
        "\n",
        "    person_id = Column(Integer, primary_key=True)\n",
        "    person_source_value = Column(String)\n",
        "    gender_concept_id = Column(Integer)\n",
        "    year_of_birth = Column(Integer)  # Cette colonne sera remplie ultérieurement\n",
        "\n",
        "# Créer la table dans la base de données\n",
        "Base.metadata.create_all(engine)\n",
        "\n",
        "\n"
      ]
    }
  ]
}